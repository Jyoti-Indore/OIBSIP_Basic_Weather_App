{
  "nbformat": 4,
  "nbformat_minor": 0,
  "metadata": {
    "colab": {
      "provenance": []
    },
    "kernelspec": {
      "name": "python3",
      "display_name": "Python 3"
    },
    "language_info": {
      "name": "python"
    }
  },
  "cells": [
    {
      "cell_type": "code",
      "execution_count": 2,
      "metadata": {
        "colab": {
          "base_uri": "https://localhost:8080/"
        },
        "id": "KM4vO4PLZPbm",
        "outputId": "3be86622-1226-4c0f-cbbc-efeef3e407c2"
      },
      "outputs": [
        {
          "output_type": "stream",
          "name": "stdout",
          "text": [
            "Requirement already satisfied: requests in /usr/local/lib/python3.11/dist-packages (2.32.3)\n",
            "Requirement already satisfied: charset-normalizer<4,>=2 in /usr/local/lib/python3.11/dist-packages (from requests) (3.4.2)\n",
            "Requirement already satisfied: idna<4,>=2.5 in /usr/local/lib/python3.11/dist-packages (from requests) (3.10)\n",
            "Requirement already satisfied: urllib3<3,>=1.21.1 in /usr/local/lib/python3.11/dist-packages (from requests) (2.5.0)\n",
            "Requirement already satisfied: certifi>=2017.4.17 in /usr/local/lib/python3.11/dist-packages (from requests) (2025.7.14)\n"
          ]
        }
      ],
      "source": [
        "!pip install requests"
      ]
    },
    {
      "cell_type": "code",
      "source": [
        "import requests\n",
        "\n",
        "def get_weather(api_key, location):\n",
        "    base_url = \"https://api.openweathermap.org/data/2.5/weather\"\n",
        "    params = {\n",
        "        \"q\": location,\n",
        "        \"appid\": api_key,\n",
        "        \"units\": \"metric\"  # We'll convert to Kelvin manually\n",
        "    }\n",
        "\n",
        "    response = requests.get(base_url, params=params)\n",
        "\n",
        "    if response.status_code == 200:\n",
        "        data = response.json()\n",
        "\n",
        "        city = data['name']\n",
        "        country = data['sys']['country']\n",
        "        temp_c = data['main']['temp']\n",
        "        temp_k = temp_c + 273.15\n",
        "        humidity = data['main']['humidity']\n",
        "        weather_condition = data['weather'][0]['description'].title()\n",
        "        wind_speed = data['wind']['speed']\n",
        "\n",
        "        print(\"\\n🌦️ Weather Info:\")\n",
        "        print(f\"📍 Location: {city}, {country}\")\n",
        "        print(f\"🌡️ Temperature: {temp_c}°C | {temp_k:.2f} K\")\n",
        "        print(f\"💧 Humidity: {humidity}%\")\n",
        "        print(f\"☁️ Condition: {weather_condition}\")\n",
        "        print(f\"💨 Wind Speed: {wind_speed} m/s\")\n",
        "\n",
        "    elif response.status_code == 404:\n",
        "        print(\"❌ Location not found. Please try again.\")\n",
        "    else:\n",
        "        print(f\"⚠️ Error fetching data. HTTP Status Code: {response.status_code}\")\n"
      ],
      "metadata": {
        "id": "IXrp5BuQdKhR"
      },
      "execution_count": 3,
      "outputs": []
    },
    {
      "cell_type": "code",
      "source": [
        "# Replace with your actual OpenWeatherMap API key and location\n",
        "api_key = \"72dab6f7f893383362288f877d1f6b1b\"\n",
        "location = \"Kolkata\"  # Can be city name or ZIP\n",
        "\n",
        "get_weather(api_key, location)\n"
      ],
      "metadata": {
        "colab": {
          "base_uri": "https://localhost:8080/"
        },
        "id": "6mKOFxOGdM_Q",
        "outputId": "85746132-c0b8-4a5f-9704-f0d185218c9e"
      },
      "execution_count": 18,
      "outputs": [
        {
          "output_type": "stream",
          "name": "stdout",
          "text": [
            "\n",
            "🌦️ Weather Info:\n",
            "📍 Location: Kolkata, IN\n",
            "🌡️ Temperature: 26.97°C | 300.12 K\n",
            "💧 Humidity: 94%\n",
            "☁️ Condition: Haze\n",
            "💨 Wind Speed: 0 m/s\n"
          ]
        }
      ]
    }
  ]
}